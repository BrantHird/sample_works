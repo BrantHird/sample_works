{
 "cells": [
  {
   "cell_type": "code",
   "execution_count": 3,
   "metadata": {},
   "outputs": [
    {
     "name": "stdout",
     "output_type": "stream",
     "text": [
      "-------------------------------------------\n",
      "Time: 2020-10-15 16:41:46\n",
      "-------------------------------------------\n",
      "(1.0, 0)\n",
      "(2.0, 1)\n",
      "\n",
      "-------------------------------------------\n",
      "Time: 2020-10-15 16:41:46\n",
      "-------------------------------------------\n",
      "(1.0, 0)\n",
      "(2.0, 1)\n",
      "\n",
      "-------------------------------------------\n",
      "Time: 2020-10-15 16:41:47\n",
      "-------------------------------------------\n",
      "\n",
      "-------------------------------------------\n",
      "Time: 2020-10-15 16:41:47\n",
      "-------------------------------------------\n",
      "\n",
      "Final centers (Original): [[ 6.25577984  6.25403349  6.25477431]\n",
      " [ 2.2408932   1.86755799 -0.97727788]]\n",
      "\n",
      "Final centers (Differential): [[ 1.76405235  0.40015721  0.97873798]\n",
      " [ 2.2408932   1.86755799 -0.97727788]]\n"
     ]
    }
   ],
   "source": [
    "import findspark\n",
    "findspark.init()\n",
    "from pyspark.streaming import StreamingContext\n",
    "from pyspark.mllib.linalg import Vectors\n",
    "from pyspark.mllib.regression import LabeledPoint\n",
    "from pyspark.mllib.clustering import StreamingKMeans\n",
    "from pyspark import SparkContext\n",
    "\n",
    "# we make an input stream of vectors for training,\n",
    "# as well as a stream of vectors for testing\n",
    "def parse(lp):\n",
    "    label = float(lp[lp.find('(') + 1: lp.find(')')])\n",
    "    vec = Vectors.dense(lp[lp.find('[') + 1: lp.find(']')].split(','))\n",
    "    return LabeledPoint(label, vec)\n",
    "\n",
    "sc =  SparkContext.getOrCreate()  # SparkContext\n",
    "ssc = StreamingContext(sc, 1)\n",
    "\n",
    "trainingData = sc.textFile(\"test.txt\").map(lambda line: Vectors.dense([float(x) for x in line.strip().split(' ')]))\n",
    "testingData = sc.textFile(\"streaming.txt\").map(parse)\n",
    "trainingQueue = [trainingData]\n",
    "testingQueue = [testingData]\n",
    "\n",
    "trainingDifferential = sc.textFile(\"testdiff.txt\").map(lambda line: Vectors.dense([float(x) for x in line.strip().split(' ')]))\n",
    "differentialQueue = [trainingDifferential]\n",
    "\n",
    "trainingStream = ssc.queueStream(trainingQueue).cache()\n",
    "testingStream = ssc.queueStream(testingQueue)\n",
    "differentialStream = ssc.queueStream(differentialQueue)\n",
    "\n",
    "\n",
    "# We create a model with random clusters and specify the number of clusters to find\n",
    "model = StreamingKMeans(k=2, decayFactor=1.0).setRandomCenters(3, 1.0, 0).setHalfLife(0.5, timeUnit = \"batches\")\n",
    "\n",
    "# Now register the streams for training and testing and start the job,\n",
    "# printing the predicted cluster assignments on new data points as they arrive.\n",
    "model.trainOn(trainingStream)\n",
    "result = model.predictOnValues(testingStream.map(lambda lp: (lp.label, lp.features)))\n",
    "result.pprint()\n",
    "\n",
    "combinedStream = trainingStream.join(differentialStream)\n",
    "newModel = StreamingKMeans(k=2, decayFactor=1.0).setRandomCenters(3,1.0,0).setHalfLife(0.5, timeUnit = \"batches\")\n",
    "newModel.trainOn(combinedStream)\n",
    "\n",
    "result = newModel.predictOnValues(testingStream.map(lambda lp: (lp.label, lp.features)))\n",
    "result.pprint()\n",
    "\n",
    "ssc.start()\n",
    "ssc.stop(stopSparkContext=True, stopGraceFully=True)\n",
    "\n",
    "print(\"Final centers (Original): \" + str(model.latestModel().centers) + \"\\n\")\n",
    "print(\"Final centers (Differential): \" + str(newModel.latestModel().centers))"
   ]
  },
  {
   "cell_type": "code",
   "execution_count": null,
   "metadata": {},
   "outputs": [],
   "source": []
  },
  {
   "cell_type": "code",
   "execution_count": null,
   "metadata": {},
   "outputs": [],
   "source": []
  }
 ],
 "metadata": {
  "kernelspec": {
   "display_name": "Python 3",
   "language": "python",
   "name": "python3"
  },
  "language_info": {
   "codemirror_mode": {
    "name": "ipython",
    "version": 3
   },
   "file_extension": ".py",
   "mimetype": "text/x-python",
   "name": "python",
   "nbconvert_exporter": "python",
   "pygments_lexer": "ipython3",
   "version": "3.8.3"
  }
 },
 "nbformat": 4,
 "nbformat_minor": 4
}
